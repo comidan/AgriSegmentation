{
 "cells": [
  {
   "cell_type": "code",
   "execution_count": 2,
   "metadata": {},
   "outputs": [],
   "source": [
    "import os\n",
    "import json\n",
    "import numpy as np\n",
    "from glob import glob\n",
    "from PIL import Image\n",
    "from numpy import argmax\n",
    "from tqdm.auto import tqdm\n",
    "\n",
    "from skimage.io import imread\n",
    "from skimage.transform import resize\n",
    "\n",
    "from sklearn.datasets import make_blobs\n",
    "from sklearn.metrics import accuracy_score\n",
    "from sklearn.model_selection import train_test_split"
   ]
  },
  {
   "cell_type": "code",
   "execution_count": 3,
   "metadata": {},
   "outputs": [
    {
     "name": "stdout",
     "output_type": "stream",
     "text": [
      "Device mapping:\n",
      "/job:localhost/replica:0/task:0/device:XLA_CPU:0 -> device: XLA_CPU device\n",
      "/job:localhost/replica:0/task:0/device:GPU:0 -> device: 0, name: GeForce RTX 2070 SUPER, pci bus id: 0000:09:00.0, compute capability: 7.5\n",
      "/job:localhost/replica:0/task:0/device:XLA_GPU:0 -> device: XLA_GPU device\n",
      "\n"
     ]
    }
   ],
   "source": [
    "import tensorflow as tf\n",
    "from tensorflow.keras.models import load_model\n",
    "from tensorflow.keras.utils import to_categorical\n",
    "from tensorflow.keras.utils import plot_model\n",
    "from tensorflow.keras.models import Model\n",
    "from tensorflow.keras.layers import Input, Dense, Concatenate, Reshape, Softmax\n",
    "from tensorflow.keras.layers import Conv1D, Conv2D, Conv3D, AveragePooling3D, Conv2DTranspose\n",
    "from tensorflow.keras import backend as K\n",
    "from tensorflow.keras.utils import to_categorical\n",
    "\n",
    "config = tf.compat.v1.ConfigProto()\n",
    "config.gpu_options.allow_growth = True\n",
    "config.log_device_placement = True\n",
    "sess = tf.compat.v1.Session(config=config)\n",
    "tf.random.set_seed(1234)"
   ]
  },
  {
   "cell_type": "code",
   "execution_count": 4,
   "metadata": {},
   "outputs": [],
   "source": [
    "MODELS = [\n",
    "    \"model_test_new_preprocess_fine_tuning_resnet152v2.h5\", \n",
    "    \"model_test_new_preprocess_fine_tuning_densenet201.h5\",\n",
    "]\n",
    "PREPROCESSORS = [\n",
    "    tf.keras.applications.resnet_v2.preprocess_input,\n",
    "    tf.keras.applications.densenet.preprocess_input\n",
    "]"
   ]
  },
  {
   "cell_type": "code",
   "execution_count": 5,
   "metadata": {},
   "outputs": [],
   "source": [
    "cwd = \"/Workspace/Shared\"\n",
    "data_path = os.path.join(cwd, 'Development_Dataset', 'Training', \"Bipbip\", \"Mais\", \"Images\", \"*\")\n",
    "IMG_H = 768\n",
    "IMG_W = 1024"
   ]
  },
  {
   "cell_type": "markdown",
   "metadata": {},
   "source": [
    "# Load the pre-trained models"
   ]
  },
  {
   "cell_type": "code",
   "execution_count": 6,
   "metadata": {},
   "outputs": [],
   "source": [
    "def load_all_models(models):\n",
    "    return [\n",
    "        print(\"loading %s\"%model_name) or load_model(model_name, compile=False)\n",
    "        for model_name in models\n",
    "    ]"
   ]
  },
  {
   "cell_type": "code",
   "execution_count": 7,
   "metadata": {},
   "outputs": [
    {
     "name": "stdout",
     "output_type": "stream",
     "text": [
      "loading model_test_new_preprocess_fine_tuning_resnet152v2.h5\n",
      "loading model_test_new_preprocess_fine_tuning_densenet201.h5\n"
     ]
    }
   ],
   "source": [
    "trained_models = load_all_models(MODELS)"
   ]
  },
  {
   "cell_type": "markdown",
   "metadata": {},
   "source": [
    "# Load the Data"
   ]
  },
  {
   "cell_type": "code",
   "execution_count": 8,
   "metadata": {},
   "outputs": [],
   "source": [
    "def rle_encode(img):\n",
    "    pixels = img.flatten()\n",
    "    pixels = np.concatenate([[0], pixels, [0]])\n",
    "    runs = np.where(pixels[1:] != pixels[:-1])[0] + 1\n",
    "    runs[1::2] -= runs[::2]\n",
    "    return ' '.join(str(x) for x in runs)\n",
    "\n",
    "def read_rgb_mask(img_path):\n",
    "    mask_img = Image.open(img_path)\n",
    "    mask_img = mask_img.resize([IMG_W, IMG_H], resample=Image.NEAREST)\n",
    "    mask_arr = np.array(mask_img)\n",
    "\n",
    "    new_mask_arr = np.zeros(mask_arr.shape[:2], dtype=mask_arr.dtype)\n",
    "\n",
    "    # Use RGB dictionary in 'RGBtoTarget.txt' to convert RGB to target\n",
    "    new_mask_arr[np.where(np.all(mask_arr == [216, 124, 18], axis=-1))] = 0\n",
    "    new_mask_arr[np.where(np.all(mask_arr == [255, 255, 255], axis=-1))] = 1\n",
    "    new_mask_arr[np.where(np.all(mask_arr == [216, 67, 82], axis=-1))] = 2\n",
    "    return new_mask_arr"
   ]
  },
  {
   "cell_type": "code",
   "execution_count": 9,
   "metadata": {},
   "outputs": [],
   "source": [
    "def load_image(path):\n",
    "    return resize(\n",
    "        imread(path)[:,:,:3], \n",
    "        (IMG_H, IMG_W), \n",
    "        mode='constant', \n",
    "        preserve_range=True\n",
    "    )\n",
    "\n",
    "def load_mask(path):\n",
    "    mask = read_rgb_mask(path.replace(\"jpg\", \"png\").replace(\"Images\", \"Masks\"))\n",
    "    mask = np.expand_dims(mask, -1)\n",
    "    return np.float32(mask)"
   ]
  },
  {
   "cell_type": "code",
   "execution_count": 9,
   "metadata": {},
   "outputs": [],
   "source": [
    "filenames = glob(data_path)"
   ]
  },
  {
   "cell_type": "code",
   "execution_count": 10,
   "metadata": {},
   "outputs": [
    {
     "data": {
      "application/vnd.jupyter.widget-view+json": {
       "model_id": "922ed4a7c9e3412aa8c73e9e42eccb32",
       "version_major": 2,
       "version_minor": 0
      },
      "text/plain": [
       "HBox(children=(HTML(value='Loading masks'), FloatProgress(value=0.0, max=90.0), HTML(value='')))"
      ]
     },
     "metadata": {},
     "output_type": "display_data"
    },
    {
     "name": "stdout",
     "output_type": "stream",
     "text": [
      "\n"
     ]
    }
   ],
   "source": [
    "masks = np.array([\n",
    "    load_mask(path)\n",
    "    for path in tqdm(filenames, desc=\"Loading masks\")\n",
    "])"
   ]
  },
  {
   "cell_type": "code",
   "execution_count": 11,
   "metadata": {},
   "outputs": [
    {
     "data": {
      "application/vnd.jupyter.widget-view+json": {
       "model_id": "1a8ccc0933804aaea313811dfebca41f",
       "version_major": 2,
       "version_minor": 0
      },
      "text/plain": [
       "HBox(children=(HTML(value='Loading images'), FloatProgress(value=0.0, max=90.0), HTML(value='')))"
      ]
     },
     "metadata": {},
     "output_type": "display_data"
    },
    {
     "name": "stdout",
     "output_type": "stream",
     "text": [
      "\n"
     ]
    }
   ],
   "source": [
    "imgs = np.array([\n",
    "    load_image(path)\n",
    "    for path in tqdm(filenames, desc=\"Loading images\")\n",
    "])"
   ]
  },
  {
   "source": [
    "# Training data based on the models' predictions"
   ],
   "cell_type": "markdown",
   "metadata": {}
  },
  {
   "cell_type": "code",
   "execution_count": 12,
   "metadata": {},
   "outputs": [
    {
     "data": {
      "application/vnd.jupyter.widget-view+json": {
       "model_id": "e501556c51804c12b10d15bda7120235",
       "version_major": 2,
       "version_minor": 0
      },
      "text/plain": [
       "HBox(children=(HTML(value='Computing the predictions'), FloatProgress(value=1.0, bar_style='info', layout=Layo…"
      ]
     },
     "metadata": {},
     "output_type": "display_data"
    },
    {
     "name": "stdout",
     "output_type": "stream",
     "text": [
      "\n",
      "CPU times: user 21.1 s, sys: 2min 2s, total: 2min 23s\n",
      "Wall time: 4min 27s\n"
     ]
    }
   ],
   "source": [
    "%%time\n",
    "preds = [\n",
    "    model.predict(preprocessor(imgs), batch_size=1)\n",
    "    for (model, preprocessor) in tqdm(zip(trained_models, PREPROCESSORS), desc=\"Computing the predictions\")\n",
    "] "
   ]
  },
  {
   "cell_type": "code",
   "execution_count": 13,
   "metadata": {},
   "outputs": [],
   "source": [
    "x = dict(list(zip([\"img\"] + MODELS, [imgs, *preds])))\n",
    "y = to_categorical(masks)\n",
    "x_pred = preds"
   ]
  },
  {
   "cell_type": "code",
   "execution_count": 14,
   "metadata": {},
   "outputs": [
    {
     "name": "stdout",
     "output_type": "stream",
     "text": [
      "img (90, 768, 1024, 3)\n",
      "model_test_new_preprocess_fine_tuning_resnet152v2.h5 (90, 768, 1024, 3)\n",
      "model_test_new_preprocess_fine_tuning_densenet201.h5 (90, 768, 1024, 3)\n"
     ]
    }
   ],
   "source": [
    "for k, v in x.items():\n",
    "    print(k, v.shape)"
   ]
  },
  {
   "cell_type": "code",
   "execution_count": 15,
   "metadata": {},
   "outputs": [
    {
     "data": {
      "text/plain": [
       "(90, 768, 1024, 3)"
      ]
     },
     "execution_count": 15,
     "metadata": {},
     "output_type": "execute_result"
    }
   ],
   "source": [
    "y.shape"
   ]
  },
  {
   "cell_type": "markdown",
   "metadata": {},
   "source": [
    "# Build the ensamble"
   ]
  },
  {
   "cell_type": "code",
   "execution_count": 55,
   "metadata": {},
   "outputs": [
    {
     "name": "stdout",
     "output_type": "stream",
     "text": [
      "[[9.91388453e-01 7.59034180e+00 1.04802129e+02]\n",
      " [9.97775208e-01 2.55845070e+01 1.84529783e+01]\n",
      " [9.88744814e-01 7.06098058e+00 1.87679366e+01]\n",
      " [9.98590671e-01 2.27796510e+01 3.33793528e+01]\n",
      " [9.92736292e-01 8.68022649e+00 2.65822001e+01]\n",
      " [9.98286903e-01 1.74404573e+01 8.23728016e+01]\n",
      " [9.87852577e-01 6.35760677e+00 4.95879386e+02]\n",
      " [9.82198355e-01 1.37413861e+01 5.65403482e+00]\n",
      " [9.86196362e-01 6.49919272e+00 1.48822007e+01]\n",
      " [9.89551853e-01 8.06691706e+00 1.30615118e+01]\n",
      " [9.92396201e-01 9.33784234e+00 1.59835021e+01]\n",
      " [9.91751628e-01 3.35753330e+01 7.95153639e+00]\n",
      " [9.88449424e-01 6.97036502e+00 1.84881475e+01]\n",
      " [9.98624841e-01 2.18205006e+01 3.90507555e+01]\n",
      " [9.98274338e-01 1.71348163e+01 1.35698419e+02]\n",
      " [9.94010328e-01 9.56067652e+00 2.95179045e+01]\n",
      " [9.60956715e-01 4.73559138e+00 5.10852678e+00]\n",
      " [9.94691254e-01 9.73227934e+00 8.30727744e+01]\n",
      " [9.94327930e-01 1.14443255e+01 1.62089096e+01]\n",
      " [9.98842643e-01 2.29785772e+01 4.85155255e+01]\n",
      " [9.73072688e-01 1.22723314e+01 4.49598211e+00]\n",
      " [9.98984237e-01 2.61227420e+01 4.19146901e+01]\n",
      " [9.88465705e-01 6.91338516e+00 1.97982910e+01]\n",
      " [9.99148705e-01 2.42770079e+01 3.52488067e+02]\n",
      " [9.95611530e-01 1.07128716e+01 9.06679399e+01]\n",
      " [9.93387249e-01 8.69329217e+00 8.92028615e+01]\n",
      " [9.92086876e-01 9.80503302e+00 1.33458427e+01]\n",
      " [9.96453895e-01 1.18431382e+01 1.42382908e+03]\n",
      " [9.90833632e-01 7.49260915e+00 3.59198536e+01]\n",
      " [9.97429742e-01 1.54716143e+01 3.18985552e+01]\n",
      " [9.88608991e-01 7.06326500e+00 1.78654987e+01]\n",
      " [9.97833645e-01 1.54192827e+01 8.42732203e+01]\n",
      " [9.91136683e-01 8.29115183e+00 1.71040620e+01]\n",
      " [9.98392061e-01 1.78021782e+01 1.21039646e+02]\n",
      " [9.92194530e-01 8.77773436e+00 1.88417212e+01]\n",
      " [9.94051651e-01 9.14670631e+00 1.40206409e+02]\n",
      " [9.90344132e-01 7.33660636e+00 3.13630096e+01]\n",
      " [9.97728479e-01 1.67140041e+01 3.19612434e+01]\n",
      " [9.92655273e-01 8.72707096e+00 2.40915498e+01]\n",
      " [9.97089750e-01 1.40391407e+01 3.59820486e+01]\n",
      " [9.82035600e-01 5.22236566e+00 6.26814551e+01]\n",
      " [9.94775520e-01 1.09505547e+01 2.13581850e+01]\n",
      " [9.91522650e-01 8.97123852e+00 1.45128954e+01]\n",
      " [9.96779831e-01 1.33237506e+01 3.45343967e+01]\n",
      " [9.95295595e-01 1.03669884e+01 7.64524862e+01]\n",
      " [9.80582465e-01 8.05000918e+00 6.38034170e+00]\n",
      " [9.68492877e-01 5.49110696e+00 5.50836223e+00]\n",
      " [9.94608495e-01 2.09774290e+01 1.07842867e+01]\n",
      " [9.41910374e-01 9.70441137e+00 2.92942575e+00]\n",
      " [9.94790831e-01 1.06410288e+01 2.44788767e+01]\n",
      " [9.98433837e-01 2.74042713e+01 2.35171657e+01]\n",
      " [9.90487167e-01 7.22893211e+00 7.79421563e+01]\n",
      " [9.91816919e-01 9.12037239e+00 1.48293603e+01]\n",
      " [9.84546692e-01 1.99066720e+01 5.86063523e+00]\n",
      " [9.96963914e-01 1.38441737e+01 3.36641981e+01]\n",
      " [9.96178596e-01 1.49237559e+01 1.76863250e+01]\n",
      " [9.98199760e-01 1.68156116e+01 1.16469788e+02]\n",
      " [9.96980537e-01 1.44957528e+01 2.76568597e+01]\n",
      " [9.83610640e-01 1.04647230e+01 6.39255256e+00]\n",
      " [9.90047007e-01 7.03653338e+00 3.10555857e+02]\n",
      " [9.92559823e-01 8.19973251e+00 7.55896345e+01]\n",
      " [9.96553531e-01 1.27130701e+01 3.67243855e+01]\n",
      " [9.79236873e-01 1.54648907e+01 5.08492297e+00]\n",
      " [9.96036922e-01 1.23016845e+01 2.70615284e+01]\n",
      " [9.78080905e-01 5.16171484e+00 1.13300704e+01]\n",
      " [9.98417692e-01 1.83021481e+01 7.31685717e+01]\n",
      " [9.85830107e-01 1.89640943e+01 6.18118903e+00]\n",
      " [9.72711736e-01 1.19162953e+01 4.47875706e+00]\n",
      " [9.93547333e-01 1.00215961e+01 1.80352090e+01]\n",
      " [9.91232620e-01 8.00361217e+00 2.15305946e+01]\n",
      " [9.75534596e-01 5.34584702e+00 7.95682087e+00]\n",
      " [9.98088840e-01 1.64611896e+01 8.36622161e+01]\n",
      " [9.80495046e-01 5.41552039e+00 1.28201017e+01]\n",
      " [9.96901693e-01 1.28719808e+01 7.25309040e+01]\n",
      " [9.99048201e-01 2.77207911e+01 4.06562483e+01]\n",
      " [9.96671961e-01 1.22508973e+01 1.94108369e+02]\n",
      " [9.82393589e-01 1.43194634e+01 5.65340252e+00]\n",
      " [9.83184816e-01 6.11138667e+00 1.13786329e+01]\n",
      " [9.84943014e-01 5.69870354e+00 2.55483142e+02]\n",
      " [9.92499784e-01 9.38340582e+00 1.61934180e+01]\n",
      " [9.92983594e-01 8.49141799e+00 5.65166055e+01]\n",
      " [9.90825368e-01 7.51961024e+00 3.29737587e+01]\n",
      " [9.89732224e-01 8.24174001e+00 1.27677625e+01]\n",
      " [9.94860184e-01 9.86316860e+00 1.11769607e+02]\n",
      " [9.94630559e-01 9.74068476e+00 5.90823450e+01]\n",
      " [9.81665748e-01 1.05528695e+01 5.90049798e+00]\n",
      " [9.97621557e-01 1.46777827e+01 8.69765970e+01]\n",
      " [9.90228601e-01 7.37414165e+00 2.63229367e+01]\n",
      " [9.95503942e-01 1.19136144e+01 2.23182779e+01]\n",
      " [9.91408935e-01 8.20823085e+00 1.97494921e+01]]\n"
     ]
    }
   ],
   "source": [
    "def compute_segmentation_masks_count(img_path):\n",
    "        '''\n",
    "        img_path: path to the mask file\n",
    "        Returns the numpy array containing target values\n",
    "        '''\n",
    "\n",
    "        mask_img = Image.open(img_path)\n",
    "        mask_img = mask_img.resize([IMG_H, IMG_W], resample=Image.NEAREST)\n",
    "        mask_arr = np.array(mask_img)\n",
    "        \n",
    "        new_mask_arr = np.zeros(mask_arr.shape[:2], dtype=mask_arr.dtype)\n",
    "    \n",
    "        # Use RGB dictionary in 'RGBtoTarget.txt' to convert RGB to target\n",
    "        new_mask_arr[np.where(np.all(mask_arr == [216, 124, 18], axis=-1))] = 0\n",
    "        new_mask_arr[np.where(np.all(mask_arr == [255, 255, 255], axis=-1))] = 1\n",
    "        new_mask_arr[np.where(np.all(mask_arr == [216, 67, 82], axis=-1))] = 2\n",
    "        \n",
    "        unique, counts = np.unique(new_mask_arr, return_counts=True)\n",
    "        while len(counts) < 3:\n",
    "            counts = np.append(counts, [1])\n",
    "        return counts\n",
    "\n",
    "def compute_weight_unbalance_mean(filenames):\n",
    "        counts = np.array([0, 0, 0], dtype=np.float64)\n",
    "        for img_path in filenames:\n",
    "            count = compute_segmentation_masks_count(img_path.replace(\"jpg\", \"png\").replace(\"Images\", \"Masks\"))\n",
    "            count_norm = count / np.linalg.norm(count)\n",
    "            count_norm[1] = count_norm[0] / count_norm[1]\n",
    "            count_norm[2] = count_norm[0] / count_norm[2]\n",
    "            counts += count_norm\n",
    "        classes = [0, 1, 2]\n",
    "        return dict(zip(classes, counts/len(filenames)))\n",
    "    \n",
    "def compute_weight_unbalance_matrix(filenames):\n",
    "        counts = []\n",
    "        for img_path in filenames:\n",
    "            count = compute_segmentation_masks_count(img_path.replace(\"jpg\", \"png\").replace(\"Images\", \"Masks\"))\n",
    "            count_norm = count / np.linalg.norm(count)\n",
    "            count_norm[1] = count_norm[0] / count_norm[1]\n",
    "            count_norm[2] = count_norm[0] / count_norm[2]\n",
    "            counts.append(count_norm)\n",
    "        return np.asarray(counts)\n",
    "    \n",
    "sample_weights = compute_weight_unbalance_matrix(filenames)\n",
    "print(sample_weights)\n",
    "from itertools import cycle\n",
    "sample_weights_iterator = cycle(sample_weights)"
   ]
  },
  {
   "cell_type": "code",
   "execution_count": 64,
   "metadata": {},
   "outputs": [],
   "source": [
    "# Here we define the intersection over union for each class in the batch.\n",
    "# Then we compute the final iou as the mean over classes\n",
    "\n",
    "def weightedLoss(originalLossFunc):\n",
    "\n",
    "    def lossFunc(true, pred):\n",
    "\n",
    "        axis = -1\n",
    "        classSelectors = K.argmax(true, axis=axis)\n",
    "        weightsList = next(sample_weights_iterator)\n",
    "        \n",
    "        classSelectors = [K.equal(tf.cast(i, tf.int64), classSelectors) for i in range(len(weightsList))]\n",
    "\n",
    "        classSelectors = [K.cast(x, K.floatx()) for x in classSelectors]\n",
    "        \n",
    "        weights = [sel * w for sel,w in zip(classSelectors, weightsList)] \n",
    "\n",
    "        weightMultiplier = weights[0]\n",
    "        for i in range(1, len(weights)):\n",
    "            weightMultiplier = weightMultiplier + weights[i]\n",
    "\n",
    "        loss = originalLossFunc(true,pred) \n",
    "        loss = loss * weightMultiplier\n",
    "\n",
    "        return loss\n",
    "    return lossFunc\n",
    "\n",
    "def meanIoU(y_true, y_pred):\n",
    "    # get predicted class from softmax\n",
    "    y_pred = tf.expand_dims(tf.argmax(y_pred, -1), -1)\n",
    "    y_true = tf.expand_dims(tf.argmax(y_true, -1), -1)\n",
    "\n",
    "    per_class_iou = []\n",
    "\n",
    "    for i in range(1,3): # exclude the background class 0\n",
    "        # Get prediction and target related to only a single class (i)\n",
    "        class_pred = tf.cast(tf.where(y_pred == i, 1, 0), tf.float32)\n",
    "        class_true = tf.cast(tf.where(y_true == i, 1, 0), tf.float32)\n",
    "        intersection = tf.reduce_sum(class_true * class_pred)\n",
    "        union = tf.reduce_sum(class_true) + tf.reduce_sum(class_pred) - intersection\n",
    "    \n",
    "        iou = (intersection + 1e-7) / (union + 1e-7)\n",
    "        per_class_iou.append(iou)\n",
    "\n",
    "    return tf.reduce_mean(per_class_iou)"
   ]
  },
  {
   "cell_type": "code",
   "execution_count": 65,
   "metadata": {},
   "outputs": [],
   "source": [
    "inputs = [tf.keras.layers.Input([IMG_H, IMG_W, 3]), tf.keras.layers.Input([IMG_H, IMG_W, 3])]\n",
    "merge = Concatenate(axis=3)(inputs)\n",
    "hidden = tf.keras.layers.Dense(6, activation='relu')(merge)\n",
    "output = tf.keras.layers.Dense(3, activation='softmax')(hidden)"
   ]
  },
  {
   "cell_type": "code",
   "execution_count": 66,
   "metadata": {},
   "outputs": [
    {
     "name": "stdout",
     "output_type": "stream",
     "text": [
      "Model: \"model_11\"\n",
      "__________________________________________________________________________________________________\n",
      "Layer (type)                    Output Shape         Param #     Connected to                     \n",
      "==================================================================================================\n",
      "input_21 (InputLayer)           [(None, 768, 1024, 3 0                                            \n",
      "__________________________________________________________________________________________________\n",
      "input_22 (InputLayer)           [(None, 768, 1024, 3 0                                            \n",
      "__________________________________________________________________________________________________\n",
      "concatenate_10 (Concatenate)    (None, 768, 1024, 6) 0           input_21[0][0]                   \n",
      "                                                                 input_22[0][0]                   \n",
      "__________________________________________________________________________________________________\n",
      "dense_15 (Dense)                (None, 768, 1024, 6) 42          concatenate_10[0][0]             \n",
      "__________________________________________________________________________________________________\n",
      "dense_16 (Dense)                (None, 768, 1024, 3) 21          dense_15[0][0]                   \n",
      "==================================================================================================\n",
      "Total params: 63\n",
      "Trainable params: 63\n",
      "Non-trainable params: 0\n",
      "__________________________________________________________________________________________________\n",
      "(None, 768, 1024, 3)\n"
     ]
    }
   ],
   "source": [
    "stacked_model = Model(inputs=inputs, outputs=output)\n",
    "stacked_model.compile(\n",
    "    optimizer=tf.keras.optimizers.Nadam(learning_rate=1e-4), \n",
    "    loss=weightedLoss(lambda x, y: K.categorical_crossentropy(x, y, axis=3)), \n",
    "    metrics=['accuracy', meanIoU]\n",
    ")\n",
    "stacked_model.summary()\n",
    "print(stacked_model.outputs[0].shape)"
   ]
  },
  {
   "cell_type": "markdown",
   "metadata": {},
   "source": [
    "# Fit the ensamble"
   ]
  },
  {
   "cell_type": "code",
   "execution_count": 67,
   "metadata": {
    "scrolled": false
   },
   "outputs": [
    {
     "name": "stdout",
     "output_type": "stream",
     "text": [
      "Epoch 1/300\n",
      "90/90 [==============================] - 2s 17ms/step - loss: 5.9263 - accuracy: 0.0851 - meanIoU: 0.0426\n",
      "Epoch 2/300\n",
      "90/90 [==============================] - 1s 17ms/step - loss: 5.8151 - accuracy: 0.0851 - meanIoU: 0.0426\n",
      "Epoch 3/300\n",
      "90/90 [==============================] - 2s 17ms/step - loss: 5.7048 - accuracy: 0.0851 - meanIoU: 0.0426\n",
      "Epoch 4/300\n",
      "90/90 [==============================] - 1s 16ms/step - loss: 5.5985 - accuracy: 0.0851 - meanIoU: 0.0426\n",
      "Epoch 5/300\n",
      "90/90 [==============================] - 1s 17ms/step - loss: 5.4959 - accuracy: 0.0851 - meanIoU: 0.0426\n",
      "Epoch 6/300\n",
      "90/90 [==============================] - 1s 17ms/step - loss: 5.3969 - accuracy: 0.0851 - meanIoU: 0.0426\n",
      "Epoch 7/300\n",
      "90/90 [==============================] - 1s 16ms/step - loss: 5.3005 - accuracy: 0.0851 - meanIoU: 0.0426\n",
      "Epoch 8/300\n",
      "90/90 [==============================] - 1s 16ms/step - loss: 5.2059 - accuracy: 0.0851 - meanIoU: 0.0426\n",
      "Epoch 9/300\n",
      "90/90 [==============================] - 1s 16ms/step - loss: 5.1133 - accuracy: 0.0851 - meanIoU: 0.0426\n",
      "Epoch 10/300\n",
      "90/90 [==============================] - 1s 16ms/step - loss: 5.0221 - accuracy: 0.0851 - meanIoU: 0.0426\n",
      "Epoch 11/300\n",
      "90/90 [==============================] - 1s 17ms/step - loss: 4.9329 - accuracy: 0.0851 - meanIoU: 0.0426\n",
      "Epoch 12/300\n",
      "90/90 [==============================] - 1s 16ms/step - loss: 4.8447 - accuracy: 0.0851 - meanIoU: 0.0426\n",
      "Epoch 13/300\n",
      "90/90 [==============================] - 1s 17ms/step - loss: 4.7574 - accuracy: 0.0851 - meanIoU: 0.0426\n",
      "Epoch 14/300\n",
      "90/90 [==============================] - 1s 17ms/step - loss: 4.6716 - accuracy: 0.0851 - meanIoU: 0.0426\n",
      "Epoch 15/300\n",
      "90/90 [==============================] - 1s 16ms/step - loss: 4.5867 - accuracy: 0.0851 - meanIoU: 0.0426\n",
      "Epoch 16/300\n",
      "90/90 [==============================] - 1s 17ms/step - loss: 4.5029 - accuracy: 0.0851 - meanIoU: 0.0426\n",
      "Epoch 17/300\n",
      "90/90 [==============================] - 1s 16ms/step - loss: 4.4202 - accuracy: 0.0851 - meanIoU: 0.0426\n",
      "Epoch 18/300\n",
      "90/90 [==============================] - 1s 16ms/step - loss: 4.3384 - accuracy: 0.0851 - meanIoU: 0.0426\n",
      "Epoch 19/300\n",
      "90/90 [==============================] - 1s 16ms/step - loss: 4.2577 - accuracy: 0.0851 - meanIoU: 0.0426\n",
      "Epoch 20/300\n",
      "90/90 [==============================] - 1s 16ms/step - loss: 4.1778 - accuracy: 0.0851 - meanIoU: 0.0426\n",
      "Epoch 21/300\n",
      "90/90 [==============================] - 1s 16ms/step - loss: 4.0992 - accuracy: 0.0851 - meanIoU: 0.0426\n",
      "Epoch 22/300\n",
      "90/90 [==============================] - 1s 16ms/step - loss: 4.0215 - accuracy: 0.0851 - meanIoU: 0.0426\n",
      "Epoch 23/300\n",
      "90/90 [==============================] - 1s 16ms/step - loss: 3.9452 - accuracy: 0.0851 - meanIoU: 0.0426\n",
      "Epoch 24/300\n",
      "90/90 [==============================] - 1s 16ms/step - loss: 3.8697 - accuracy: 0.0851 - meanIoU: 0.0426\n",
      "Epoch 25/300\n",
      "90/90 [==============================] - 1s 16ms/step - loss: 3.7957 - accuracy: 0.0852 - meanIoU: 0.0434\n",
      "Epoch 26/300\n",
      "90/90 [==============================] - 1s 16ms/step - loss: 3.7225 - accuracy: 0.0862 - meanIoU: 0.0567\n",
      "Epoch 27/300\n",
      "90/90 [==============================] - 1s 16ms/step - loss: 3.6509 - accuracy: 0.0879 - meanIoU: 0.0823\n",
      "Epoch 28/300\n",
      "90/90 [==============================] - 1s 16ms/step - loss: 3.5801 - accuracy: 0.0897 - meanIoU: 0.1059\n",
      "Epoch 29/300\n",
      "90/90 [==============================] - 1s 16ms/step - loss: 3.5111 - accuracy: 0.0915 - meanIoU: 0.1298\n",
      "Epoch 30/300\n",
      "90/90 [==============================] - 1s 16ms/step - loss: 3.4432 - accuracy: 0.0937 - meanIoU: 0.1556\n",
      "Epoch 31/300\n",
      "90/90 [==============================] - 1s 16ms/step - loss: 3.3772 - accuracy: 0.0966 - meanIoU: 0.1874\n",
      "Epoch 32/300\n",
      "90/90 [==============================] - 1s 17ms/step - loss: 3.3131 - accuracy: 0.1031 - meanIoU: 0.2544\n",
      "Epoch 33/300\n",
      "90/90 [==============================] - 1s 16ms/step - loss: 3.2503 - accuracy: 0.1287 - meanIoU: 0.4027\n",
      "Epoch 34/300\n",
      "90/90 [==============================] - 1s 16ms/step - loss: 3.1884 - accuracy: 0.1291 - meanIoU: 0.4045\n",
      "Epoch 35/300\n",
      "90/90 [==============================] - 1s 16ms/step - loss: 3.1274 - accuracy: 0.1294 - meanIoU: 0.4051\n",
      "Epoch 36/300\n",
      "90/90 [==============================] - 2s 17ms/step - loss: 3.0671 - accuracy: 0.1297 - meanIoU: 0.4053\n",
      "Epoch 37/300\n",
      "90/90 [==============================] - 1s 16ms/step - loss: 3.0077 - accuracy: 0.1299 - meanIoU: 0.4052\n",
      "Epoch 38/300\n",
      "90/90 [==============================] - 2s 17ms/step - loss: 2.9493 - accuracy: 0.1302 - meanIoU: 0.4049\n",
      "Epoch 39/300\n",
      "90/90 [==============================] - 1s 17ms/step - loss: 2.8924 - accuracy: 0.1304 - meanIoU: 0.4045\n",
      "Epoch 40/300\n",
      "90/90 [==============================] - 1s 17ms/step - loss: 2.8405 - accuracy: 0.1306 - meanIoU: 0.4037\n",
      "Epoch 41/300\n",
      "90/90 [==============================] - 1s 17ms/step - loss: 2.7901 - accuracy: 0.1307 - meanIoU: 0.4031\n",
      "Epoch 42/300\n",
      "90/90 [==============================] - 1s 17ms/step - loss: 2.7405 - accuracy: 0.1309 - meanIoU: 0.4020\n",
      "Epoch 43/300\n",
      "90/90 [==============================] - 1s 17ms/step - loss: 2.6915 - accuracy: 0.1310 - meanIoU: 0.4012\n",
      "Epoch 44/300\n",
      "90/90 [==============================] - 1s 17ms/step - loss: 2.6434 - accuracy: 0.1323 - meanIoU: 0.4004\n",
      "Epoch 45/300\n",
      "90/90 [==============================] - 1s 17ms/step - loss: 2.5958 - accuracy: 0.1375 - meanIoU: 0.4007\n",
      "Epoch 46/300\n",
      "90/90 [==============================] - 1s 17ms/step - loss: 2.5488 - accuracy: 0.2794 - meanIoU: 0.4557\n",
      "Epoch 47/300\n",
      "90/90 [==============================] - 1s 17ms/step - loss: 2.5026 - accuracy: 0.9697 - meanIoU: 0.7617\n",
      "Epoch 48/300\n",
      "90/90 [==============================] - 1s 17ms/step - loss: 2.4567 - accuracy: 0.9731 - meanIoU: 0.7758\n",
      "Epoch 49/300\n",
      "90/90 [==============================] - 1s 17ms/step - loss: 2.4117 - accuracy: 0.9747 - meanIoU: 0.7824\n",
      "Epoch 50/300\n",
      "90/90 [==============================] - 1s 16ms/step - loss: 2.3669 - accuracy: 0.9757 - meanIoU: 0.7869\n",
      "Epoch 51/300\n",
      "90/90 [==============================] - 1s 16ms/step - loss: 2.3230 - accuracy: 0.9764 - meanIoU: 0.7901\n",
      "Epoch 52/300\n",
      "90/90 [==============================] - 1s 17ms/step - loss: 2.2797 - accuracy: 0.9766 - meanIoU: 0.7910\n",
      "Epoch 53/300\n",
      "90/90 [==============================] - 1s 17ms/step - loss: 2.2367 - accuracy: 0.9766 - meanIoU: 0.7910\n",
      "Epoch 54/300\n",
      "90/90 [==============================] - 1s 17ms/step - loss: 2.1945 - accuracy: 0.9766 - meanIoU: 0.7910\n",
      "Epoch 55/300\n",
      "90/90 [==============================] - 1s 17ms/step - loss: 2.1526 - accuracy: 0.9766 - meanIoU: 0.7910\n",
      "Epoch 56/300\n",
      "90/90 [==============================] - 1s 16ms/step - loss: 2.1114 - accuracy: 0.9766 - meanIoU: 0.7909\n",
      "Epoch 57/300\n",
      "90/90 [==============================] - 1s 16ms/step - loss: 2.0709 - accuracy: 0.9765 - meanIoU: 0.7907\n",
      "Epoch 58/300\n",
      "90/90 [==============================] - 1s 16ms/step - loss: 2.0305 - accuracy: 0.9764 - meanIoU: 0.7904\n",
      "Epoch 59/300\n",
      "90/90 [==============================] - 1s 17ms/step - loss: 1.9908 - accuracy: 0.9764 - meanIoU: 0.7903\n",
      "Epoch 60/300\n",
      "90/90 [==============================] - 1s 16ms/step - loss: 1.9517 - accuracy: 0.9764 - meanIoU: 0.7901\n",
      "Epoch 61/300\n",
      "90/90 [==============================] - 1s 16ms/step - loss: 1.9129 - accuracy: 0.9763 - meanIoU: 0.7897\n",
      "Epoch 62/300\n",
      "90/90 [==============================] - 1s 16ms/step - loss: 1.8748 - accuracy: 0.9762 - meanIoU: 0.7894\n",
      "Epoch 63/300\n",
      "90/90 [==============================] - 1s 16ms/step - loss: 1.8373 - accuracy: 0.9762 - meanIoU: 0.7893\n",
      "Epoch 64/300\n",
      "90/90 [==============================] - 1s 16ms/step - loss: 1.8010 - accuracy: 0.9764 - meanIoU: 0.7900\n",
      "Epoch 65/300\n",
      "90/90 [==============================] - 1s 16ms/step - loss: 1.7658 - accuracy: 0.9766 - meanIoU: 0.7909\n",
      "Epoch 66/300\n",
      "90/90 [==============================] - 1s 16ms/step - loss: 1.7311 - accuracy: 0.9767 - meanIoU: 0.7918\n",
      "Epoch 67/300\n",
      "90/90 [==============================] - 1s 17ms/step - loss: 1.6972 - accuracy: 0.9769 - meanIoU: 0.7926\n",
      "Epoch 68/300\n",
      "90/90 [==============================] - 1s 16ms/step - loss: 1.6642 - accuracy: 0.9771 - meanIoU: 0.7933\n",
      "Epoch 69/300\n"
     ]
    },
    {
     "name": "stdout",
     "output_type": "stream",
     "text": [
      "90/90 [==============================] - 1s 16ms/step - loss: 1.6317 - accuracy: 0.9772 - meanIoU: 0.7941\n",
      "Epoch 70/300\n",
      "90/90 [==============================] - 1s 16ms/step - loss: 1.5999 - accuracy: 0.9774 - meanIoU: 0.7947\n",
      "Epoch 71/300\n",
      "90/90 [==============================] - 1s 16ms/step - loss: 1.5688 - accuracy: 0.9775 - meanIoU: 0.7954\n",
      "Epoch 72/300\n",
      "90/90 [==============================] - 1s 16ms/step - loss: 1.5385 - accuracy: 0.9776 - meanIoU: 0.7959\n",
      "Epoch 73/300\n",
      "90/90 [==============================] - 1s 16ms/step - loss: 1.5085 - accuracy: 0.9777 - meanIoU: 0.7964\n",
      "Epoch 74/300\n",
      "90/90 [==============================] - 1s 16ms/step - loss: 1.4795 - accuracy: 0.9778 - meanIoU: 0.7969\n",
      "Epoch 75/300\n",
      "90/90 [==============================] - 1s 16ms/step - loss: 1.4507 - accuracy: 0.9779 - meanIoU: 0.7975\n",
      "Epoch 76/300\n",
      "90/90 [==============================] - 1s 16ms/step - loss: 1.4228 - accuracy: 0.9780 - meanIoU: 0.7979\n",
      "Epoch 77/300\n",
      "90/90 [==============================] - 1s 16ms/step - loss: 1.3954 - accuracy: 0.9781 - meanIoU: 0.7983\n",
      "Epoch 78/300\n",
      "90/90 [==============================] - 1s 16ms/step - loss: 1.3687 - accuracy: 0.9782 - meanIoU: 0.7986\n",
      "Epoch 79/300\n",
      "90/90 [==============================] - 1s 17ms/step - loss: 1.3423 - accuracy: 0.9783 - meanIoU: 0.7990\n",
      "Epoch 80/300\n",
      "90/90 [==============================] - 1s 17ms/step - loss: 1.3167 - accuracy: 0.9783 - meanIoU: 0.7993\n",
      "Epoch 81/300\n",
      "90/90 [==============================] - 1s 16ms/step - loss: 1.2915 - accuracy: 0.9784 - meanIoU: 0.7997\n",
      "Epoch 82/300\n",
      "90/90 [==============================] - 1s 16ms/step - loss: 1.2670 - accuracy: 0.9785 - meanIoU: 0.7999\n",
      "Epoch 83/300\n",
      "90/90 [==============================] - 1s 17ms/step - loss: 1.2428 - accuracy: 0.9785 - meanIoU: 0.8001\n",
      "Epoch 84/300\n",
      "90/90 [==============================] - 1s 17ms/step - loss: 1.2192 - accuracy: 0.9786 - meanIoU: 0.8004\n",
      "Epoch 85/300\n",
      "90/90 [==============================] - 1s 16ms/step - loss: 1.1961 - accuracy: 0.9786 - meanIoU: 0.8006\n",
      "Epoch 86/300\n",
      "90/90 [==============================] - 1s 16ms/step - loss: 1.1734 - accuracy: 0.9786 - meanIoU: 0.8008\n",
      "Epoch 87/300\n",
      "90/90 [==============================] - 1s 17ms/step - loss: 1.1513 - accuracy: 0.9787 - meanIoU: 0.8008\n",
      "Epoch 88/300\n",
      "90/90 [==============================] - 1s 17ms/step - loss: 1.1294 - accuracy: 0.9787 - meanIoU: 0.8010\n",
      "Epoch 89/300\n",
      "90/90 [==============================] - 1s 16ms/step - loss: 1.1081 - accuracy: 0.9787 - meanIoU: 0.8010\n",
      "Epoch 90/300\n",
      "90/90 [==============================] - 1s 17ms/step - loss: 1.0871 - accuracy: 0.9787 - meanIoU: 0.8012\n",
      "Epoch 91/300\n",
      "90/90 [==============================] - 1s 16ms/step - loss: 1.0666 - accuracy: 0.9787 - meanIoU: 0.8012\n",
      "Epoch 92/300\n",
      "90/90 [==============================] - 1s 16ms/step - loss: 1.0463 - accuracy: 0.9788 - meanIoU: 0.8013\n",
      "Epoch 93/300\n",
      "90/90 [==============================] - 1s 16ms/step - loss: 1.0265 - accuracy: 0.9788 - meanIoU: 0.8013\n",
      "Epoch 94/300\n",
      "90/90 [==============================] - 1s 16ms/step - loss: 1.0069 - accuracy: 0.9788 - meanIoU: 0.8013\n",
      "Epoch 95/300\n",
      "90/90 [==============================] - 1s 17ms/step - loss: 0.9884 - accuracy: 0.9788 - meanIoU: 0.8013\n",
      "Epoch 96/300\n",
      "90/90 [==============================] - 1s 16ms/step - loss: 0.9703 - accuracy: 0.9788 - meanIoU: 0.8014\n",
      "Epoch 97/300\n",
      "90/90 [==============================] - 1s 16ms/step - loss: 0.9529 - accuracy: 0.9788 - meanIoU: 0.8015\n",
      "Epoch 98/300\n",
      "90/90 [==============================] - 1s 16ms/step - loss: 0.9359 - accuracy: 0.9788 - meanIoU: 0.8015\n",
      "Epoch 99/300\n",
      "90/90 [==============================] - 1s 16ms/step - loss: 0.9192 - accuracy: 0.9788 - meanIoU: 0.8016\n",
      "Epoch 100/300\n",
      "90/90 [==============================] - 1s 16ms/step - loss: 0.9031 - accuracy: 0.9788 - meanIoU: 0.8017\n",
      "Epoch 101/300\n",
      "90/90 [==============================] - 1s 16ms/step - loss: 0.8875 - accuracy: 0.9788 - meanIoU: 0.8016\n",
      "Epoch 102/300\n",
      "90/90 [==============================] - 1s 16ms/step - loss: 0.8722 - accuracy: 0.9789 - meanIoU: 0.8017\n",
      "Epoch 103/300\n",
      "90/90 [==============================] - 1s 16ms/step - loss: 0.8575 - accuracy: 0.9788 - meanIoU: 0.8016\n",
      "Epoch 104/300\n",
      "90/90 [==============================] - 1s 16ms/step - loss: 0.8432 - accuracy: 0.9788 - meanIoU: 0.8016\n",
      "Epoch 105/300\n",
      "90/90 [==============================] - 1s 16ms/step - loss: 0.8294 - accuracy: 0.9788 - meanIoU: 0.8015\n",
      "Epoch 106/300\n",
      "90/90 [==============================] - 1s 16ms/step - loss: 0.8159 - accuracy: 0.9788 - meanIoU: 0.8015\n",
      "Epoch 107/300\n",
      "90/90 [==============================] - 1s 16ms/step - loss: 0.8029 - accuracy: 0.9788 - meanIoU: 0.8015\n",
      "Epoch 108/300\n",
      "90/90 [==============================] - 1s 16ms/step - loss: 0.7902 - accuracy: 0.9788 - meanIoU: 0.8016\n",
      "Epoch 109/300\n",
      "90/90 [==============================] - 1s 16ms/step - loss: 0.7780 - accuracy: 0.9788 - meanIoU: 0.8015\n",
      "Epoch 110/300\n",
      "90/90 [==============================] - 1s 16ms/step - loss: 0.7662 - accuracy: 0.9788 - meanIoU: 0.8015\n",
      "Epoch 111/300\n",
      "90/90 [==============================] - 1s 16ms/step - loss: 0.7548 - accuracy: 0.9788 - meanIoU: 0.8013\n",
      "Epoch 112/300\n",
      "90/90 [==============================] - 1s 16ms/step - loss: 0.7437 - accuracy: 0.9788 - meanIoU: 0.8013\n",
      "Epoch 113/300\n",
      "90/90 [==============================] - 1s 16ms/step - loss: 0.7330 - accuracy: 0.9788 - meanIoU: 0.8013\n",
      "Epoch 114/300\n",
      "90/90 [==============================] - 1s 16ms/step - loss: 0.7226 - accuracy: 0.9788 - meanIoU: 0.8013\n",
      "Epoch 115/300\n",
      "90/90 [==============================] - 1s 16ms/step - loss: 0.7127 - accuracy: 0.9788 - meanIoU: 0.8012\n",
      "Epoch 116/300\n",
      "90/90 [==============================] - 1s 16ms/step - loss: 0.7030 - accuracy: 0.9787 - meanIoU: 0.8011\n",
      "Epoch 117/300\n",
      "90/90 [==============================] - 1s 16ms/step - loss: 0.6937 - accuracy: 0.9787 - meanIoU: 0.8011\n",
      "Epoch 118/300\n",
      "90/90 [==============================] - 1s 16ms/step - loss: 0.6846 - accuracy: 0.9787 - meanIoU: 0.8009\n",
      "Epoch 119/300\n",
      "90/90 [==============================] - 1s 16ms/step - loss: 0.6760 - accuracy: 0.9787 - meanIoU: 0.8010\n",
      "Epoch 120/300\n",
      "90/90 [==============================] - 1s 16ms/step - loss: 0.6676 - accuracy: 0.9787 - meanIoU: 0.8008\n",
      "Epoch 121/300\n",
      "90/90 [==============================] - 1s 16ms/step - loss: 0.6595 - accuracy: 0.9787 - meanIoU: 0.8008\n",
      "Epoch 122/300\n",
      "90/90 [==============================] - 1s 17ms/step - loss: 0.6516 - accuracy: 0.9787 - meanIoU: 0.8007\n",
      "Epoch 123/300\n",
      "90/90 [==============================] - 1s 17ms/step - loss: 0.6441 - accuracy: 0.9786 - meanIoU: 0.8005\n",
      "Epoch 124/300\n",
      "90/90 [==============================] - 1s 16ms/step - loss: 0.6368 - accuracy: 0.9786 - meanIoU: 0.8004\n",
      "Epoch 125/300\n",
      "90/90 [==============================] - 1s 16ms/step - loss: 0.6298 - accuracy: 0.9786 - meanIoU: 0.8004\n",
      "Epoch 126/300\n",
      "90/90 [==============================] - 1s 16ms/step - loss: 0.6230 - accuracy: 0.9786 - meanIoU: 0.8002\n",
      "Epoch 127/300\n",
      "90/90 [==============================] - 1s 16ms/step - loss: 0.6165 - accuracy: 0.9786 - meanIoU: 0.8001\n",
      "Epoch 128/300\n",
      "90/90 [==============================] - 1s 16ms/step - loss: 0.6101 - accuracy: 0.9785 - meanIoU: 0.8000\n",
      "Epoch 129/300\n",
      "90/90 [==============================] - 1s 16ms/step - loss: 0.6039 - accuracy: 0.9785 - meanIoU: 0.7999\n",
      "Epoch 130/300\n",
      "90/90 [==============================] - 1s 16ms/step - loss: 0.5974 - accuracy: 0.9785 - meanIoU: 0.7997\n",
      "Epoch 131/300\n",
      "90/90 [==============================] - 1s 16ms/step - loss: 0.5912 - accuracy: 0.9784 - meanIoU: 0.7995\n",
      "Epoch 132/300\n",
      "90/90 [==============================] - 1s 16ms/step - loss: 0.5854 - accuracy: 0.9784 - meanIoU: 0.7994\n",
      "Epoch 133/300\n",
      "90/90 [==============================] - 1s 16ms/step - loss: 0.5799 - accuracy: 0.9784 - meanIoU: 0.7991\n",
      "Epoch 134/300\n",
      "90/90 [==============================] - 1s 16ms/step - loss: 0.5746 - accuracy: 0.9784 - meanIoU: 0.7992\n",
      "Epoch 135/300\n",
      "90/90 [==============================] - 1s 16ms/step - loss: 0.5695 - accuracy: 0.9783 - meanIoU: 0.7990\n",
      "Epoch 136/300\n",
      "90/90 [==============================] - 1s 16ms/step - loss: 0.5647 - accuracy: 0.9783 - meanIoU: 0.7989\n",
      "Epoch 137/300\n"
     ]
    },
    {
     "name": "stdout",
     "output_type": "stream",
     "text": [
      "90/90 [==============================] - 1s 16ms/step - loss: 0.5600 - accuracy: 0.9783 - meanIoU: 0.7987\n",
      "Epoch 138/300\n",
      "90/90 [==============================] - 1s 16ms/step - loss: 0.5555 - accuracy: 0.9783 - meanIoU: 0.7986\n",
      "Epoch 139/300\n",
      "90/90 [==============================] - 1s 16ms/step - loss: 0.5512 - accuracy: 0.9783 - meanIoU: 0.7985\n",
      "Epoch 140/300\n",
      "90/90 [==============================] - 1s 16ms/step - loss: 0.5471 - accuracy: 0.9782 - meanIoU: 0.7984\n",
      "Epoch 141/300\n",
      "90/90 [==============================] - 1s 16ms/step - loss: 0.5432 - accuracy: 0.9782 - meanIoU: 0.7981\n",
      "Epoch 142/300\n",
      "90/90 [==============================] - 1s 17ms/step - loss: 0.5393 - accuracy: 0.9782 - meanIoU: 0.7981\n",
      "Epoch 143/300\n",
      "90/90 [==============================] - 1s 16ms/step - loss: 0.5357 - accuracy: 0.9781 - meanIoU: 0.7979\n",
      "Epoch 144/300\n",
      "90/90 [==============================] - 1s 16ms/step - loss: 0.5321 - accuracy: 0.9781 - meanIoU: 0.7977\n",
      "Epoch 145/300\n",
      "90/90 [==============================] - 1s 16ms/step - loss: 0.5288 - accuracy: 0.9781 - meanIoU: 0.7977\n",
      "Epoch 146/300\n",
      "90/90 [==============================] - 1s 16ms/step - loss: 0.5255 - accuracy: 0.9780 - meanIoU: 0.7975\n",
      "Epoch 147/300\n",
      "90/90 [==============================] - 1s 16ms/step - loss: 0.5224 - accuracy: 0.9780 - meanIoU: 0.7973\n",
      "Epoch 148/300\n",
      "90/90 [==============================] - 1s 16ms/step - loss: 0.5193 - accuracy: 0.9780 - meanIoU: 0.7972\n",
      "Epoch 149/300\n",
      "90/90 [==============================] - 1s 16ms/step - loss: 0.5164 - accuracy: 0.9780 - meanIoU: 0.7970\n",
      "Epoch 150/300\n",
      "90/90 [==============================] - 1s 17ms/step - loss: 0.5136 - accuracy: 0.9779 - meanIoU: 0.7969\n",
      "Epoch 151/300\n",
      "90/90 [==============================] - 1s 16ms/step - loss: 0.5109 - accuracy: 0.9779 - meanIoU: 0.7968\n",
      "Epoch 152/300\n",
      "90/90 [==============================] - 1s 16ms/step - loss: 0.5083 - accuracy: 0.9779 - meanIoU: 0.7967\n",
      "Epoch 153/300\n",
      "90/90 [==============================] - 1s 16ms/step - loss: 0.5058 - accuracy: 0.9779 - meanIoU: 0.7965\n",
      "Epoch 154/300\n",
      "90/90 [==============================] - 1s 16ms/step - loss: 0.5034 - accuracy: 0.9778 - meanIoU: 0.7963\n",
      "Epoch 155/300\n",
      "90/90 [==============================] - 1s 16ms/step - loss: 0.5011 - accuracy: 0.9778 - meanIoU: 0.7962\n",
      "Epoch 156/300\n",
      "90/90 [==============================] - 1s 16ms/step - loss: 0.4989 - accuracy: 0.9778 - meanIoU: 0.7961\n",
      "Epoch 157/300\n",
      "90/90 [==============================] - 1s 16ms/step - loss: 0.4967 - accuracy: 0.9778 - meanIoU: 0.7960\n",
      "Epoch 158/300\n",
      "90/90 [==============================] - 1s 16ms/step - loss: 0.4946 - accuracy: 0.9777 - meanIoU: 0.7958\n",
      "Epoch 159/300\n",
      "90/90 [==============================] - 1s 17ms/step - loss: 0.4926 - accuracy: 0.9777 - meanIoU: 0.7957\n",
      "Epoch 160/300\n",
      "90/90 [==============================] - 1s 16ms/step - loss: 0.4907 - accuracy: 0.9777 - meanIoU: 0.7955\n",
      "Epoch 161/300\n",
      "90/90 [==============================] - 1s 16ms/step - loss: 0.4888 - accuracy: 0.9776 - meanIoU: 0.7953\n",
      "Epoch 162/300\n",
      "90/90 [==============================] - 1s 16ms/step - loss: 0.4870 - accuracy: 0.9776 - meanIoU: 0.7952\n",
      "Epoch 163/300\n",
      "90/90 [==============================] - 1s 16ms/step - loss: 0.4853 - accuracy: 0.9776 - meanIoU: 0.7951\n",
      "Epoch 164/300\n",
      "90/90 [==============================] - 1s 16ms/step - loss: 0.4836 - accuracy: 0.9775 - meanIoU: 0.7947\n",
      "Epoch 165/300\n",
      "90/90 [==============================] - 1s 16ms/step - loss: 0.4820 - accuracy: 0.9775 - meanIoU: 0.7948\n",
      "Epoch 166/300\n",
      "90/90 [==============================] - 1s 16ms/step - loss: 0.4804 - accuracy: 0.9775 - meanIoU: 0.7946\n",
      "Epoch 167/300\n",
      "90/90 [==============================] - 1s 16ms/step - loss: 0.4789 - accuracy: 0.9775 - meanIoU: 0.7945\n",
      "Epoch 168/300\n",
      "90/90 [==============================] - 1s 16ms/step - loss: 0.4775 - accuracy: 0.9775 - meanIoU: 0.7943\n",
      "Epoch 169/300\n",
      "90/90 [==============================] - 1s 16ms/step - loss: 0.4761 - accuracy: 0.9774 - meanIoU: 0.7942\n",
      "Epoch 170/300\n",
      "90/90 [==============================] - 1s 16ms/step - loss: 0.4747 - accuracy: 0.9774 - meanIoU: 0.7940\n",
      "Epoch 171/300\n",
      "90/90 [==============================] - 1s 17ms/step - loss: 0.4734 - accuracy: 0.9774 - meanIoU: 0.7938\n",
      "Epoch 172/300\n",
      "90/90 [==============================] - 1s 16ms/step - loss: 0.4722 - accuracy: 0.9773 - meanIoU: 0.7938\n",
      "Epoch 173/300\n",
      "90/90 [==============================] - 1s 16ms/step - loss: 0.4709 - accuracy: 0.9773 - meanIoU: 0.7936\n",
      "Epoch 174/300\n",
      "90/90 [==============================] - 1s 16ms/step - loss: 0.4698 - accuracy: 0.9773 - meanIoU: 0.7935\n",
      "Epoch 175/300\n",
      "90/90 [==============================] - 1s 16ms/step - loss: 0.4687 - accuracy: 0.9772 - meanIoU: 0.7931\n",
      "Epoch 176/300\n",
      "90/90 [==============================] - 1s 16ms/step - loss: 0.4676 - accuracy: 0.9772 - meanIoU: 0.7932\n",
      "Epoch 177/300\n",
      "90/90 [==============================] - 1s 16ms/step - loss: 0.4665 - accuracy: 0.9772 - meanIoU: 0.7931\n",
      "Epoch 178/300\n",
      "90/90 [==============================] - 1s 16ms/step - loss: 0.4655 - accuracy: 0.9772 - meanIoU: 0.7928\n",
      "Epoch 179/300\n",
      "90/90 [==============================] - 1s 16ms/step - loss: 0.4645 - accuracy: 0.9771 - meanIoU: 0.7927\n",
      "Epoch 180/300\n",
      "90/90 [==============================] - 1s 16ms/step - loss: 0.4635 - accuracy: 0.9771 - meanIoU: 0.7925\n",
      "Epoch 181/300\n",
      "90/90 [==============================] - 1s 16ms/step - loss: 0.4626 - accuracy: 0.9771 - meanIoU: 0.7925\n",
      "Epoch 182/300\n",
      "90/90 [==============================] - 1s 16ms/step - loss: 0.4617 - accuracy: 0.9771 - meanIoU: 0.7923\n",
      "Epoch 183/300\n",
      "90/90 [==============================] - 1s 16ms/step - loss: 0.4609 - accuracy: 0.9770 - meanIoU: 0.7921\n",
      "Epoch 184/300\n",
      "90/90 [==============================] - 1s 16ms/step - loss: 0.4601 - accuracy: 0.9770 - meanIoU: 0.7920\n",
      "Epoch 185/300\n",
      "90/90 [==============================] - 1s 16ms/step - loss: 0.4592 - accuracy: 0.9770 - meanIoU: 0.7919\n",
      "Epoch 186/300\n",
      "90/90 [==============================] - 1s 16ms/step - loss: 0.4585 - accuracy: 0.9770 - meanIoU: 0.7919\n",
      "Epoch 187/300\n",
      "90/90 [==============================] - 1s 16ms/step - loss: 0.4578 - accuracy: 0.9770 - meanIoU: 0.7917\n",
      "Epoch 188/300\n",
      "90/90 [==============================] - 1s 17ms/step - loss: 0.4570 - accuracy: 0.9769 - meanIoU: 0.7914\n",
      "Epoch 189/300\n",
      "90/90 [==============================] - 1s 16ms/step - loss: 0.4563 - accuracy: 0.9769 - meanIoU: 0.7915\n",
      "Epoch 190/300\n",
      "90/90 [==============================] - 1s 16ms/step - loss: 0.4556 - accuracy: 0.9769 - meanIoU: 0.7913\n",
      "Epoch 191/300\n",
      "90/90 [==============================] - 1s 16ms/step - loss: 0.4550 - accuracy: 0.9768 - meanIoU: 0.7909\n",
      "Epoch 192/300\n",
      "90/90 [==============================] - 1s 16ms/step - loss: 0.4544 - accuracy: 0.9768 - meanIoU: 0.7910\n",
      "Epoch 193/300\n",
      "90/90 [==============================] - 1s 16ms/step - loss: 0.4538 - accuracy: 0.9768 - meanIoU: 0.7908\n",
      "Epoch 194/300\n",
      "90/90 [==============================] - 1s 16ms/step - loss: 0.4524 - accuracy: 0.9769 - meanIoU: 0.7933"
     ]
    }
   ],
   "source": [
    "callbacks = []\n",
    "\n",
    "rlp_callback = tf.keras.callbacks.ReduceLROnPlateau(monitor=\"loss\", min_delta=0.001, patience=3, factor=0.1)\n",
    "callbacks.append(rlp_callback)\n",
    "\n",
    "es_callback = tf.keras.callbacks.EarlyStopping(monitor='loss', patience=10, restore_best_weights=True)\n",
    "callbacks.append(es_callback)\n",
    "\n",
    "stacked_model.fit(\n",
    "    preds, y, \n",
    "    epochs=300,\n",
    "    batch_size=1\n",
    ")"
   ]
  },
  {
   "source": [
    "# Compute predictions"
   ],
   "cell_type": "markdown",
   "metadata": {}
  },
  {
   "cell_type": "code",
   "execution_count": 10,
   "metadata": {
    "scrolled": true
   },
   "outputs": [
    {
     "data": {
      "application/vnd.jupyter.widget-view+json": {
       "model_id": "24780baa5c284ac9b4a6de2753c09935",
       "version_major": 2,
       "version_minor": 0
      },
      "text/plain": [
       "HBox(children=(HTML(value='Loading images'), FloatProgress(value=0.0, max=120.0), HTML(value='')))"
      ]
     },
     "metadata": {},
     "output_type": "display_data"
    },
    {
     "name": "stdout",
     "output_type": "stream",
     "text": [
      "\n"
     ]
    },
    {
     "data": {
      "application/vnd.jupyter.widget-view+json": {
       "model_id": "b5e392860567479986f806fa1635e9bb",
       "version_major": 2,
       "version_minor": 0
      },
      "text/plain": [
       "HBox(children=(HTML(value='Computing the predictions'), FloatProgress(value=1.0, bar_style='info', layout=Layo…"
      ]
     },
     "metadata": {},
     "output_type": "display_data"
    },
    {
     "name": "stdout",
     "output_type": "stream",
     "text": [
      "\n"
     ]
    }
   ],
   "source": [
    "from skimage.transform import resize\n",
    "from skimage.io import imread\n",
    "from sklearn.model_selection import train_test_split\n",
    "from PIL import Image\n",
    "import json\n",
    "\n",
    "def rle_encode(img):\n",
    "    pixels = img.flatten()\n",
    "    pixels = np.concatenate([[0], pixels, [0]])\n",
    "    runs = np.where(pixels[1:] != pixels[:-1])[0] + 1\n",
    "    runs[1::2] -= runs[::2]\n",
    "    return ' '.join(str(x) for x in runs)\n",
    "\n",
    "test_filenames = glob(os.path.join(cwd, 'Development_Dataset', 'Test_Dev', \"**\", \"**\", \"**\", \"*\"))\n",
    "\n",
    "submission_dict={}\n",
    "\n",
    "imgs = np.array([\n",
    "    load_image(path)\n",
    "    for path in tqdm(test_filenames, desc=\"Loading images\")\n",
    "])\n",
    "\n",
    "predictions = [\n",
    "    stacked_model.predict(preprocessor(imgs), batch_size=1)\n",
    "]"
   ]
  },
  {
   "cell_type": "code",
   "execution_count": 12,
   "metadata": {},
   "source": [
    "for pred, path in zip(predictions, test_filenames):\n",
    "\n",
    "    pred = tf.image.resize(pred, [1536, 2048], method='nearest')\n",
    "    mask_arr = tf.argmax(pred, -1).numpy()\n",
    "\n",
    "    path_metadata = path.split(\"/\")[5:]\n",
    "    \n",
    "    team = path_metadata[0]\n",
    "    crop = path_metadata[1]\n",
    "    img_name = path_metadata[3].replace(\".jpg\",\"\").replace(\".png\",\"\")\n",
    "    \n",
    "    submission_dict[img_name] = {}\n",
    "    submission_dict[img_name]['shape'] = mask_arr.shape\n",
    "    submission_dict[img_name]['team'] = team\n",
    "    submission_dict[img_name]['crop'] = crop\n",
    "    submission_dict[img_name]['segmentation'] = {}\n",
    "\n",
    "    rle_encoded_crop = rle_encode(mask_arr == 1)\n",
    "    rle_encoded_weed = rle_encode(mask_arr == 2)\n",
    "\n",
    "    submission_dict[img_name]['segmentation']['crop'] = rle_encoded_crop\n",
    "    submission_dict[img_name]['segmentation']['weed'] = rle_encoded_weed\n",
    "\n",
    "with open('./predictions/submission.json', 'w') as f:\n",
    "        json.dump(submission_dict, f)"
   ],
   "outputs": []
  },
  {
   "cell_type": "code",
   "execution_count": null,
   "metadata": {},
   "outputs": [],
   "source": []
  }
 ],
 "metadata": {
  "kernelspec": {
   "display_name": "Python 3",
   "language": "python",
   "name": "python3"
  },
  "language_info": {
   "codemirror_mode": {
    "name": "ipython",
    "version": 3
   },
   "file_extension": ".py",
   "mimetype": "text/x-python",
   "name": "python",
   "nbconvert_exporter": "python",
   "pygments_lexer": "ipython3",
   "version": "3.8.5"
  }
 },
 "nbformat": 4,
 "nbformat_minor": 4
}